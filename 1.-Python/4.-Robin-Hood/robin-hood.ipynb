{
 "cells": [
  {
   "cell_type": "markdown",
   "metadata": {},
   "source": [
    "<img src=\"https://bit.ly/2VnXWr2\" width=\"100\" align=\"left\"/>"
   ]
  },
  {
   "cell_type": "markdown",
   "metadata": {},
   "source": [
    "# Robin Hood\n",
    "Robin Hood has entered a competition to win the archery contest in Sherwood. With his bow and arrows, he needs to shoot on a target and try to hit as close as possible to the center.\n",
    "\n",
    "![](images/arrows.jpg)\n",
    "\n",
    "## Context\n",
    "In this challenge, the landing position of arrows shot by archers in the competition will be represented using 2-dimensional coordinates. \n",
    "\n",
    "In the 2-dimensional space, a point can be defined by a pair of values that correspond to the horizontal coordinate (x) and the vertical coordinate (y). For example, in our case, an arrow that hits the center of the archery target will land in position (0, 0) on the coordinate axes. \n",
    "\n",
    "The space can be divided into 4 zones (quadrants): Q1, Q2, Q3, Q4. If a point is in Q1, both its x coordinate and y coordinate are positive. Any point with a null x or y coordinate is considered to not belong to any quadrant. \n",
    "\n",
    "If you want to know more about the cartesian coordinate system, you can check this [link](https://en.wikipedia.org/wiki/Cartesian_coordinate_system). \n",
    "\n",
    "## Tools\n",
    "You don't necessarily need to use all the tools. Maybe you opt to use some of them or completely different ones, they are given to help you shape the exercise. Programming exercises can be solved in many different ways.\n",
    "* Data structures: **lists, sets, tuples**\n",
    "* Conditional statements: **if-elif-else**\n",
    "* Loop: **while/for**\n",
    "* Minimum (optional sorting)\n",
    "\n",
    "## Tasks\n",
    "Robin Hood has hit the following points:"
   ]
  },
  {
   "cell_type": "code",
   "execution_count": null,
   "metadata": {},
   "outputs": [],
   "source": [
    "points = [(4, 5), (-0, 2), (4, 7), (1, -3), (3, -2), (4, 5), (3, 2), (5, 7), (-5, 7), (2, 2), (-4, 5), (0, -2),\n",
    "          (-4, 7), (-1, 3), (-3, 2), (-4, -5), (-3, 2), (5, 7), (5, 7), (2, 2), (9, 9), (-8, -9)]"
   ]
  },
  {
   "cell_type": "markdown",
   "metadata": {},
   "source": [
    "#### 1. Robin Hood is famous for hitting an arrow with another arrow. Find the coordinates of the points where an arrow hits another arrow."
   ]
  },
  {
   "cell_type": "code",
   "execution_count": 2,
   "metadata": {},
   "outputs": [
    {
     "data": {
      "text/plain": [
       "{(-3, 2), (2, 2), (4, 5), (5, 7)}"
      ]
     },
     "execution_count": 2,
     "metadata": {},
     "output_type": "execute_result"
    }
   ],
   "source": [
    "points = [(4, 5), (-0, 2), (4, 7), (1, -3), (3, -2), (4, 5), (3, 2), (5, 7), (-5, 7), (2, 2), (-4, 5), (0, -2), (-4, 7), (-1, 3), (-3, 2), (-4, -5), (-3, 2), (5, 7), (5, 7), (2, 2), (9, 9), (-8, -9)]\n",
    "\n",
    "duplicate = set()\n",
    "for z in points:\n",
    "\tif points.count(z) > 1:\n",
    "\t\tduplicate.add(z)\n",
    "\n",
    "duplicate"
   ]
  },
  {
   "cell_type": "markdown",
   "metadata": {},
   "source": [
    "#### 2. Calculate how many arrows have fallen in each quadrant. \n",
    "**Note**: the arrows that fall in the axis (x=0 or y=0) don't belong to any quadrant."
   ]
  },
  {
   "cell_type": "code",
   "execution_count": 6,
   "metadata": {},
   "outputs": [
    {
     "name": "stdout",
     "output_type": "stream",
     "text": [
      "quadrant Q1 has been hit by 10 arrows\n",
      "quadrant Q2 has been hit by 2 arrows\n",
      "quadrant Q3 has been hit by 3 arrows\n",
      "quadrant Q4 has been hit by 7 arrows\n"
     ]
    }
   ],
   "source": [
    "quadrant = []\n",
    "for (x,y) in points:\n",
    "\tif x<=0 and y <= 0:\n",
    "\t\tquadrant.append(\"Q3\")\n",
    "\telif x<=0 and y>=0:\n",
    "\t\tquadrant.append(\"Q4\")\n",
    "\telif x>=0 and y>=0:\n",
    "\t\tquadrant.append(\"Q1\")\n",
    "\telif x>=0 and y<=0:\n",
    "\t\tquadrant.append(\"Q2\")\n",
    "\telif x==0 and y==0:\n",
    "\t\tquadrant.append(\"center\")\n",
    "\telse: \n",
    "\t\tquadrant.append(\"NULL\")\n",
    "\n",
    "quadrant\n",
    "\n",
    "print ('quadrant Q1 has been hit by', quadrant.count (\"Q1\"), 'arrows')\n",
    "print ('quadrant Q2 has been hit by', quadrant.count (\"Q2\"), 'arrows')\n",
    "print ('quadrant Q3 has been hit by', quadrant.count (\"Q3\"), 'arrows')\n",
    "print ('quadrant Q4 has been hit by', quadrant.count (\"Q4\"), 'arrows')"
   ]
  },
  {
   "cell_type": "markdown",
   "metadata": {},
   "source": [
    "#### 3. Find the point closest to the center. Calculate its distance to the center. \n",
    "Take into account that there might be more than one point at the minimum distance to the center.\n",
    "\n",
    "**Hint**: Use the Euclidean distance. You can find more information about it [here](https://en.wikipedia.org/wiki/Euclidean_distance).  \n",
    "**Hint**: Defining a function that calculates the distance to the center can help."
   ]
  },
  {
   "cell_type": "code",
   "execution_count": 10,
   "metadata": {},
   "outputs": [
    {
     "data": {
      "text/plain": [
       "[(0, 2), (0, -2)]"
      ]
     },
     "execution_count": 10,
     "metadata": {},
     "output_type": "execute_result"
    }
   ],
   "source": [
    "#Calculate distance to center\n",
    "distance = []\n",
    "for (x,y) in points:\n",
    "\tdistance.append((x**2 + y**2)**0.5)\n",
    "\n",
    "#find the minimum distance to center and return the index\n",
    "position_distance = [i for i , x in enumerate(distance) if x == min(distance)]\n",
    "\n",
    "#find the points closest to center based on index (position distance)\n",
    "points_closest = []\n",
    "\n",
    "points_closest = [points[x] for x in position_distance]\n",
    "\n",
    "points_closest"
   ]
  },
  {
   "cell_type": "markdown",
   "metadata": {},
   "source": [
    "#### 4. If the archery target has a radius of 9, calculate the number of arrows that won't hit the target. \n",
    "**Hint**: Use the function created in step 3. "
   ]
  },
  {
   "cell_type": "code",
   "execution_count": 9,
   "metadata": {},
   "outputs": [
    {
     "data": {
      "text/plain": [
       "[(9, 9), (-8, -9)]"
      ]
     },
     "execution_count": 9,
     "metadata": {},
     "output_type": "execute_result"
    }
   ],
   "source": [
    "#Calculate distance to center\n",
    "distance = []\n",
    "for (x,y) in points:\n",
    "\tdistance.append((x**2 + y**2)**0.5)\n",
    "\n",
    "#find the distance to center > 9 and return the index\n",
    "position_distance = [i for i , x in enumerate(distance) if x > 9]\n",
    "\n",
    "position_distance\n",
    "\n",
    "#find the points closest to center based on index (position distance)\n",
    "points_over9 = []\n",
    "\n",
    "points_over9 = [points[x] for x in position_distance]\n",
    "\n",
    "points_over9"
   ]
  },
  {
   "cell_type": "code",
   "execution_count": null,
   "metadata": {},
   "outputs": [],
   "source": []
  }
 ],
 "metadata": {
  "kernelspec": {
   "display_name": "Python 3",
   "language": "python",
   "name": "python3"
  },
  "language_info": {
   "codemirror_mode": {
    "name": "ipython",
    "version": 3
   },
   "file_extension": ".py",
   "mimetype": "text/x-python",
   "name": "python",
   "nbconvert_exporter": "python",
   "pygments_lexer": "ipython3",
   "version": "3.8.3"
  }
 },
 "nbformat": 4,
 "nbformat_minor": 2
}
