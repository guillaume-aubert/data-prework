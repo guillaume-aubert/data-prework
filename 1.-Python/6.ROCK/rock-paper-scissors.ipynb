{
 "cells": [
  {
   "cell_type": "markdown",
   "metadata": {},
   "source": [
    "<img src=\"https://bit.ly/2VnXWr2\" width=\"100\" align=\"left\">"
   ]
  },
  {
   "cell_type": "markdown",
   "metadata": {},
   "source": [
    "# Rock, Paper & Scissors\n",
    "\n",
    "Let's play the famous game against our computer. You can check the rules [here](https://en.wikipedia.org/wiki/Rock%E2%80%93paper%E2%80%93scissors). \n",
    "\n",
    "## Task\n",
    "Create a program that imitates the playability of the well known game of rock, paper, scissors. Follow the guidelines provided.\n",
    "\n",
    "## Tools\n",
    "1. Loop: **for/while**\n",
    "2. Functions: **input(), print()...**\n",
    "3. Conditional statements: **if, elif, else**\n",
    "4. Definition of functions. Modular programming\n",
    "5. Import modules\n",
    "\n",
    "**To solve this challenge, the use of functions is recommended.**\n",
    "\n",
    "#### 1. Import the choice function of the random module."
   ]
  },
  {
   "cell_type": "code",
   "execution_count": 10,
   "metadata": {},
   "outputs": [
    {
     "data": {
      "text/plain": [
       "'Rock'"
      ]
     },
     "execution_count": 10,
     "metadata": {},
     "output_type": "execute_result"
    }
   ],
   "source": [
    "import random\n",
    "gestures = [\"Rock\", \"Paper\", \"Scissors\"]\n",
    "\n",
    "random.choice(gestures)"
   ]
  },
  {
   "cell_type": "markdown",
   "metadata": {},
   "source": [
    "#### 2. Create a list that includes the 3 possible gesture options of the game: 'rock', 'paper' or 'scissors'. Store the list in a variable called `gestures`."
   ]
  },
  {
   "cell_type": "code",
   "execution_count": 11,
   "metadata": {},
   "outputs": [],
   "source": [
    "gestures = [\"Rock\", \"Paper\", \"Scissors\"]"
   ]
  },
  {
   "cell_type": "markdown",
   "metadata": {},
   "source": [
    "#### 3. Create a variable called `n_rounds` to store the maximum number of rounds to play in a game. \n",
    "Remember that the number of rounds must be odd: 1, 3, 5, ..."
   ]
  },
  {
   "cell_type": "code",
   "execution_count": 73,
   "metadata": {},
   "outputs": [
    {
     "name": "stdout",
     "output_type": "stream",
     "text": [
      "How many maximum rounds?5\n",
      "5\n"
     ]
    }
   ],
   "source": [
    "rounds_to_win = 0\n",
    "\n",
    "def rounds():\n",
    "\tn_rounds = int(input(\"How many maximum rounds?\"))\n",
    "\tif n_rounds%2 == 0:\n",
    "\t\tn_rounds = n_rounds+1\n",
    "\treturn n_rounds\n",
    "\n",
    "n_rounds = int(rounds())\n",
    "print (n_rounds)"
   ]
  },
  {
   "cell_type": "markdown",
   "metadata": {},
   "source": [
    "#### 4. Create a variable called `rounds_to_win` to store the number of rounds that a player must win to win the game.\n",
    "**Hint**: the value stored in `rounds_to_win` depends on the value of `n_rounds`. "
   ]
  },
  {
   "cell_type": "code",
   "execution_count": 74,
   "metadata": {},
   "outputs": [
    {
     "name": "stdout",
     "output_type": "stream",
     "text": [
      "How many maximum rounds?5\n",
      "You need to win 3 rounds to win the game\n"
     ]
    }
   ],
   "source": [
    "def rounds_to_win():\n",
    "\trounds_to_win = int((rounds()+1)/2)\n",
    "\treturn rounds_to_win\n",
    "\n",
    "rounds_to_win = int(rounds_to_win())\n",
    "print (\"You need to win\",rounds_to_win,\"rounds to win the game\")"
   ]
  },
  {
   "cell_type": "markdown",
   "metadata": {},
   "source": [
    "#### 5. Create two variables to store the number of rounds that the computer and the player have won. Call these variables `cpu_score` and `player_score`."
   ]
  },
  {
   "cell_type": "code",
   "execution_count": 32,
   "metadata": {},
   "outputs": [
    {
     "name": "stdout",
     "output_type": "stream",
     "text": [
      "0 0\n"
     ]
    }
   ],
   "source": [
    "cpu_score=0\n",
    "player_score=0\n",
    "\n",
    "print(cpu_score,player_score)"
   ]
  },
  {
   "cell_type": "markdown",
   "metadata": {},
   "source": [
    "#### 6. Define a function that randomly returns one of the 3 gesture options.\n",
    "You will use this function to simulate the gesture choice of the computer. "
   ]
  },
  {
   "cell_type": "code",
   "execution_count": 62,
   "metadata": {},
   "outputs": [
    {
     "name": "stdout",
     "output_type": "stream",
     "text": [
      "Scissors\n"
     ]
    }
   ],
   "source": [
    "def cpu_gesture():\n",
    "\treturn random.choice(gestures)\n",
    "\n",
    "cpu_choice = cpu_gesture()\n",
    "print (cpu_gesture())"
   ]
  },
  {
   "cell_type": "markdown",
   "metadata": {},
   "source": [
    "#### 7. Define a function that asks the player which is the gesture he or she wants to show: 'rock', 'paper' or 'scissors'.\n",
    "The player should only be allowed to choose one of the 3 gesture options. If the player's choice is not rock, paper or scissors, keep asking until it is."
   ]
  },
  {
   "cell_type": "code",
   "execution_count": 64,
   "metadata": {
    "scrolled": false
   },
   "outputs": [
    {
     "name": "stdout",
     "output_type": "stream",
     "text": [
      "Choose a gesture between Rock, Paper or Scissors:Scissors\n",
      "Scissors\n"
     ]
    }
   ],
   "source": [
    "gestures = [\"Rock\", \"Paper\", \"Scissors\"]\n",
    "def player_choice():\n",
    "\tplayer_gesture =\"\"\n",
    "\twhile player_gesture not in gestures:\n",
    "\t\tplayer_gesture = input(\"Choose a gesture between Rock, Paper or Scissors:\")\n",
    "\treturn player_gesture\n",
    "\n",
    "player_gesture=player_choice()\n",
    "print (player_gesture)"
   ]
  },
  {
   "cell_type": "markdown",
   "metadata": {},
   "source": [
    "8. Define a function that checks who won a round.\n",
    "The function should return 0 if there is a tie, 1 if the computer wins and 2 if the player wins."
   ]
  },
  {
   "cell_type": "code",
   "execution_count": 86,
   "metadata": {},
   "outputs": [
    {
     "name": "stdout",
     "output_type": "stream",
     "text": [
      "1\n"
     ]
    }
   ],
   "source": [
    "def Roundwin(player_gesture, cpu_choice):\n",
    "\tif (player_gesture == cpu_choice):\n",
    "\t\treturn 0\n",
    "\telif (player_gesture == \"Scissors\" and cpu_choice == \"Paper\"):\n",
    "\t\treturn 2\n",
    "\telif (player_gesture == \"Scissors\" and cpu_choice == \"Rock\"):\n",
    "\t\treturn 1\n",
    "\telif (player_gesture == \"Rock\" and cpu_choice == \"Paper\"):\n",
    "\t\treturn 1\n",
    "\telif (player_gesture == \"Rock\" and cpu_choice == \"Scissors\"):\n",
    "\t\treturn 2\n",
    "\telif (player_gesture == \"Paper\" and cpu_choice == \"Scissors\"):\n",
    "\t\treturn 1\n",
    "\telif (player_gesture == \"Paper\" and cpu_choice == \"Rock\"):\n",
    "\t\treturn 2\n",
    "\n",
    "print (Roundwin(player_gesture, cpu_choice))"
   ]
  },
  {
   "cell_type": "markdown",
   "metadata": {},
   "source": [
    "#### 9. Define a function that prints the choice of the computer, the choice of the player and a message that announces who won the current round. \n",
    "You should also use this function to update the variables that count the number of rounds that the computer and the player have won. The score of the winner increases by one point. If there is a tie, the score does not increase."
   ]
  },
  {
   "cell_type": "code",
   "execution_count": 88,
   "metadata": {},
   "outputs": [
    {
     "name": "stdout",
     "output_type": "stream",
     "text": [
      "The player chose: Paper\n",
      "The CPU chose: Scissors\n"
     ]
    },
    {
     "data": {
      "text/plain": [
       "(0, 3)"
      ]
     },
     "execution_count": 88,
     "metadata": {},
     "output_type": "execute_result"
    }
   ],
   "source": [
    "def winner(player_gesture, cpu_choice):\n",
    "\tprint (\"The player chose:\", player_gesture)\n",
    "\tprint (\"The CPU chose:\", cpu_choice)\n",
    "\tif Roundwin(player_gesture, cpu_gesture) == 1:\n",
    "\t\tprint (\"The CPU won!\")\n",
    "\t\tglobal cpu_score\n",
    "\t\tcpu_score +=1\n",
    "\telif Roundwin(player_gesture, cpu_choice) == 2:\n",
    "\t\tprint (\"The player won!\")\n",
    "\t\tglobal player_score\n",
    "\t\tplayer_score +=1\n",
    "\telif Roundwin(player_gesture, cpu_choice) == 0:\n",
    "\t\tprint (\"It's a tie!\")\n",
    "\treturn player_score, cpu_score\n",
    "\n",
    "winner(player_gesture, cpu_choice)\n"
   ]
  },
  {
   "cell_type": "markdown",
   "metadata": {},
   "source": [
    "#### 10. Now it's time to code the execution of the game using the functions and variables you defined above. \n",
    "\n",
    "First, create a loop structure that repeats while no player reaches the minimum score necessary to win and the number of rounds is less than the maximum number of rounds to play in a game.  \n",
    "\n",
    "Inside the loop, use the functions and variables above to create the execution of a round: ask for the player's choice, generate the random choice of the computer, show the round results, update the scores, etc. "
   ]
  },
  {
   "cell_type": "code",
   "execution_count": null,
   "metadata": {},
   "outputs": [],
   "source": [
    "cpu_score=0\n",
    "player_score=0\n",
    "n_rounds = 1\n",
    "\n",
    "while (player_score < rounds_to_win) and (cpu_score < rounds_to_win) and (n_rounds <= rounds_to_win) :\n",
    "\tplayer_choice() = player_gesture\n",
    "\tround_result = Roundwin(player_gesture, cpu_gesture)\n",
    "\tplayer_score, cpu_score = winner(player_gesture, cpu_choice)\n",
    "\n",
    "n_rounds +=1\n"
   ]
  },
  {
   "cell_type": "markdown",
   "metadata": {},
   "source": [
    "#### 11. Print the winner of the game based on who won more rounds.\n",
    "Remember that the game might be tied. "
   ]
  },
  {
   "cell_type": "code",
   "execution_count": null,
   "metadata": {},
   "outputs": [],
   "source": [
    "if( cpu_score > player_score):\n",
    "    print(\"The winner is the computer\")\n",
    "elif( cpu_score < player_score):\n",
    "    print(\"The player is the winner\")\n",
    "else:\n",
    "    print(\"There are no winners. It is a tie\")"
   ]
  },
  {
   "cell_type": "markdown",
   "metadata": {},
   "source": [
    "# Bonus: Rock, Paper, Scissors, Lizard & Spock\n",
    "![](images/rpsls.jpg)\n",
    "\n",
    "In this challenge, you need to improve the previous game by adding two new options. To know more about the rules of the improved version of rock, paper, scissors, check this [link](http://www.samkass.com/theories/RPSSL.html). \n",
    "\n",
    "In addition, you will also need to improve how the game interacts with the player: the number of rounds to play, which must be an odd number, will be requested to the user until a valid number is entered. Define a new function to make that request.\n",
    "\n",
    "**Hint**: Try to reuse the code that you already coded in the previous challenge. If your code is efficient, this bonus will only consist of simple modifications to the original game."
   ]
  },
  {
   "cell_type": "code",
   "execution_count": null,
   "metadata": {},
   "outputs": [],
   "source": []
  }
 ],
 "metadata": {
  "kernelspec": {
   "display_name": "Python 3",
   "language": "python",
   "name": "python3"
  },
  "language_info": {
   "codemirror_mode": {
    "name": "ipython",
    "version": 3
   },
   "file_extension": ".py",
   "mimetype": "text/x-python",
   "name": "python",
   "nbconvert_exporter": "python",
   "pygments_lexer": "ipython3",
   "version": "3.8.3"
  }
 },
 "nbformat": 4,
 "nbformat_minor": 2
}
